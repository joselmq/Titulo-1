{
 "cells": [
  {
   "cell_type": "markdown",
   "metadata": {},
   "source": [
    "## Concatenate 2012 files"
   ]
  },
  {
   "cell_type": "code",
   "execution_count": 1,
   "metadata": {},
   "outputs": [
    {
     "name": "stdout",
     "output_type": "stream",
     "text": [
      "2012.txt generated\n"
     ]
    }
   ],
   "source": [
    "filenames = ['2012_train.txt', '2012_val.txt']\n",
    "output_file = '2012.txt'\n",
    "\n",
    "with open(output_file, 'w') as outfile:\n",
    "    for fname in filenames:\n",
    "        with open(fname) as infile:\n",
    "            for line in infile:\n",
    "                outfile.write(line)\n",
    "                \n",
    "print(\"2012.txt generated\")"
   ]
  },
  {
   "cell_type": "markdown",
   "metadata": {},
   "source": [
    "## Functions"
   ]
  },
  {
   "cell_type": "code",
   "execution_count": 5,
   "metadata": {},
   "outputs": [],
   "source": [
    "import re\n",
    "import shutil\n",
    "\n",
    "def read_label_file(year, idx):\n",
    "    txt_content = []\n",
    "    fname = \"VOCdevkit/VOC2012/labels/%s_%s.txt\" % (year, idx)\n",
    "\n",
    "    with open(fname,'r') as infile:\n",
    "        for line in infile:\n",
    "            txt_content.append(line)\n",
    "            \n",
    "    return txt_content\n",
    "\n",
    "def search_label(bounding_boxes):\n",
    "    label_present = False\n",
    "    b_boxes_with_label = []\n",
    "\n",
    "    for line in bounding_boxes:\n",
    "        label = re.split('[ ]', line)\n",
    "        if label[0] == \"3\" or label[0] == \"10\" or label[0] == \"17\":\n",
    "            label_present = True\n",
    "            b_boxes_with_label.append(line)\n",
    "\n",
    "    return label_present, b_boxes_with_label\n",
    "\n",
    "def copy_labelfile_B(bounding_boxes, year, idx):\n",
    "    filename = \"data/voc/imgs/%s_%s.txt\" % (year, idx)\n",
    "\n",
    "    with open(filename, 'a') as infile:\n",
    "        for line in bounding_boxes:\n",
    "            infile.write(line)\n",
    "\n",
    "def copy_labelfile_A(year, id):\n",
    "    origin_file = r'VOCdevkit/VOC2012/labels/%s_%s.txt' % (year, id)\n",
    "    target_file = r'data/voc/imgs/%s_%s.txt' % (year, id)\n",
    "\n",
    "    shutil.copyfile(origin_file, target_file)"
   ]
  },
  {
   "cell_type": "markdown",
   "metadata": {},
   "source": [
    "## A.txt and B.txt generation"
   ]
  },
  {
   "cell_type": "code",
   "execution_count": 11,
   "metadata": {
    "scrolled": true
   },
   "outputs": [],
   "source": [
    "fname = '2012.txt'\n",
    "A_file = \"A.txt\"\n",
    "B_file = \"B.txt\"\n",
    "\n",
    "with open(fname) as infile:\n",
    "  \n",
    "  # search every line in 2012.txt and split the string\n",
    "    for line in infile:\n",
    "        splitLine = re.split('[/ _.]', line)\n",
    "        year = splitLine[10]\n",
    "        id = splitLine[11]\n",
    "        # identify content o the label file\n",
    "        bounding_boxes = read_label_file(year, id)\n",
    "        # identify label and save content of the file\n",
    "        is_label_3_10_17, new_bounding_boxes = search_label(bounding_boxes)\n",
    "\n",
    "        # if there is a bird, cow or sheep write the route on B.txt\n",
    "        if is_label_3_10_17:\n",
    "            with open(B_file, \"a\") as file_b:\n",
    "                file_b.write(\"data/voc/imgs/%s_%s.jpg\\n\" % (year, id))\n",
    "            copy_labelfile_B(new_bounding_boxes, year, id)\n",
    "\n",
    "        # else, write the route on A.txt\n",
    "        else:\n",
    "            with open(A_file, \"a\") as file_a:\n",
    "                file_a.write(\"data/voc/imgs/%s_%s.jpg\\n\" % (year, id))\n",
    "            copy_labelfile_A(year, id)"
   ]
  },
  {
   "cell_type": "code",
   "execution_count": null,
   "metadata": {},
   "outputs": [],
   "source": []
  },
  {
   "cell_type": "code",
   "execution_count": null,
   "metadata": {},
   "outputs": [],
   "source": []
  },
  {
   "cell_type": "code",
   "execution_count": null,
   "metadata": {},
   "outputs": [],
   "source": []
  }
 ],
 "metadata": {
  "kernelspec": {
   "display_name": "Python 3",
   "language": "python",
   "name": "python3"
  },
  "language_info": {
   "codemirror_mode": {
    "name": "ipython",
    "version": 2
   },
   "file_extension": ".py",
   "mimetype": "text/x-python",
   "name": "python",
   "nbconvert_exporter": "python",
   "pygments_lexer": "ipython2",
   "version": "2.7.17"
  }
 },
 "nbformat": 4,
 "nbformat_minor": 4
}
